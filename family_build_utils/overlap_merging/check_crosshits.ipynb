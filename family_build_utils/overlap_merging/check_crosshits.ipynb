{
 "cells": [
  {
   "cell_type": "code",
   "execution_count": 4,
   "metadata": {
    "collapsed": true
   },
   "outputs": [
    {
     "name": "stdout",
     "output_type": "stream",
     "text": [
      "atl_1\tatl_1\t78.632\t468\t92\t7\t1827\t2290\t1320\t1783\t2.00e-82\t303\natl_1\tatl_1\t78.541\t466\t96\t4\t1320\t1783\t1827\t2290\t2.00e-82\t303\nisdH\tisdB\t72.765\t973\t230\t30\t993\t1949\t390\t1343\t2.37e-80\t296\nisdB\tisdH\t72.765\t973\t230\t30\t390\t1343\t993\t1949\t1.71e-80\t296\n"
     ]
    }
   ],
   "source": [
    "import sys\n",
    "\n",
    "path = '/Users/cyeats/cy2@sanger.ac.uk/CGPS/Projects/WGSA/Staphylococcus_aureus/Core_Families_II/fastas/cross_hits.tab'\n",
    "\n",
    "for line in open(path, 'r').readlines():\n",
    "    (id1, id2, pid) = line.replace('\\n', '').split()[0:3]\n",
    "    if id1 != id2 or float(pid) != 100.0:\n",
    "        print(line, end='')\n"
   ]
  },
  {
   "cell_type": "code",
   "execution_count": 8,
   "metadata": {},
   "outputs": [],
   "source": []
  },
  {
   "cell_type": "code",
   "execution_count": null,
   "metadata": {},
   "outputs": [],
   "source": []
  }
 ],
 "metadata": {
  "kernelspec": {
   "display_name": "Python 2",
   "language": "python",
   "name": "python2"
  },
  "language_info": {
   "codemirror_mode": {
    "name": "ipython",
    "version": 2
   },
   "file_extension": ".py",
   "mimetype": "text/x-python",
   "name": "python",
   "nbconvert_exporter": "python",
   "pygments_lexer": "ipython2",
   "version": "2.7.6"
  }
 },
 "nbformat": 4,
 "nbformat_minor": 0
}
