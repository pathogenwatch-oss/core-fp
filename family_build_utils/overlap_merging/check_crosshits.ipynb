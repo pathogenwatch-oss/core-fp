{
 "cells": [
  {
   "cell_type": "code",
   "execution_count": 1,
   "metadata": {
    "collapsed": true
   },
   "outputs": [
    {
     "name": "stdout",
     "output_type": "stream",
     "text": [
      "SE4047_SEQ_0094__SEQ_0095\tSE4047_SEQ_1455__glnQ1\t96.970\t33\t1\t0\t405\t437\t2579\t2611\t2.05e-08\t56.5\nSE4047_SEQ_1455__glnQ1\tSE4047_SEQ_0094__SEQ_0095\t96.970\t33\t1\t0\t2579\t2611\t405\t437\t3.94e-08\t56.5\nSE4047_SEQ_1507__SEQ_1509\tSEQ_0712\t97.872\t47\t0\t1\t776\t822\t722\t767\t1.24e-15\t80.5\nSEQ_0712\tSE4047_SEQ_1507__SEQ_1509\t97.872\t47\t0\t1\t722\t767\t776\t822\t8.19e-16\t80.5\nglgP1\tglgP2\t90.566\t53\t5\t0\t1309\t1361\t1180\t1232\t1.16e-12\t71.3\nglgP2\tglgP1\t90.566\t53\t5\t0\t1180\t1232\t1309\t1361\t1.10e-12\t71.3\nSEQ_1505\tSEQ_1505\t85.591\t812\t103\t13\t1115\t1919\t188\t992\t0.0\t839\nSEQ_1505\tSEQ_1505\t85.591\t812\t103\t13\t188\t992\t1115\t1919\t0.0\t839\nSEQ_1706\tSEQ_1708\t97.059\t68\t2\t0\t1\t68\t1\t68\t5.24e-27\t115\nSEQ_1708\tSEQ_1706\t97.059\t68\t2\t0\t1\t68\t1\t68\t5.11e-27\t115\nSEQ_1821\tSEQ_1821\t90.306\t196\t19\t0\t386\t581\t128\t323\t2.00e-69\t257\nSEQ_1821\tSEQ_1821\t90.306\t196\t19\t0\t128\t323\t386\t581\t2.00e-69\t257\n"
     ]
    }
   ],
   "source": [
    "import sys\n",
    "\n",
    "path = '/Users/cyeats/cy2@sanger.ac.uk/CGPS/Projects/WGSA/Streptococcus_equi/Core_Families_II/Cross_hit_tests/foo'\n",
    "\n",
    "for line in open(path, 'r').readlines():\n",
    "    (id1, id2, pid) = line.replace('\\n', '').split()[0:3]\n",
    "    if id1 != id2 or float(pid) != 100.0:\n",
    "        print(line, end='')\n"
   ]
  },
  {
   "cell_type": "code",
   "execution_count": 8,
   "metadata": {},
   "outputs": [],
   "source": []
  },
  {
   "cell_type": "code",
   "execution_count": null,
   "metadata": {},
   "outputs": [],
   "source": []
  }
 ],
 "metadata": {
  "kernelspec": {
   "display_name": "Python 2",
   "language": "python",
   "name": "python2"
  },
  "language_info": {
   "codemirror_mode": {
    "name": "ipython",
    "version": 2
   },
   "file_extension": ".py",
   "mimetype": "text/x-python",
   "name": "python",
   "nbconvert_exporter": "python",
   "pygments_lexer": "ipython2",
   "version": "2.7.6"
  }
 },
 "nbformat": 4,
 "nbformat_minor": 0
}
