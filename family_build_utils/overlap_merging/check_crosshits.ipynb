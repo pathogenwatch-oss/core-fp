{
 "cells": [
  {
   "cell_type": "code",
   "execution_count": 1,
   "metadata": {
    "collapsed": true
   },
   "outputs": [
    {
     "name": "stdout",
     "output_type": "stream",
     "text": [
      "aer\t76-1292_group_5358__tsr_2\t79.851\t134\t25\t2\t1070\t1202\t1099\t1231\t3.01e-20\t97.1\nfumB\tfumA\t80.785\t1504\t281\t7\t115\t1614\t115\t1614\t0.0\t1170\nygcX\tH12ESR00394-001A_group_5440__ygcY\t74.536\t809\t182\t23\t517\t1313\t1869\t2665\t6.66e-91\t331\naraD_1\t76-1292_araD_2__ulaE_1\t75.779\t706\t151\t19\t1\t696\t855\t1550\t2.04e-93\t339\nprr\taldB\t87.013\t77\t10\t0\t439\t515\t505\t581\t1.69e-17\t87.9\naroF\taroG\t93.333\t75\t5\t0\t271\t345\t268\t342\t7.53e-25\t111\nfumA\tfumB\t80.785\t1504\t281\t7\t115\t1614\t115\t1614\t0.0\t1170\naldB\tprr\t87.013\t77\t10\t0\t505\t581\t439\t515\t1.83e-17\t87.9\nlppA\tlppB\t86.567\t201\t27\t0\t13\t213\t16\t216\t6.87e-59\t222\nacrB\tacrD\t73.137\t953\t235\t18\t2155\t3098\t2149\t3089\t9.50e-88\t322\nyfaY_2\tyfaY_1\t98.214\t168\t3\t0\t3\t170\t1023\t1190\t1.04e-80\t294\nSTY4020\tgroup_806\t75.265\t756\t154\t27\t16\t756\t16\t753\t1.67e-90\t329\ntrg_2\t76-1292_group_5358__tsr_2\t77.062\t388\t79\t9\t847\t1229\t858\t1240\t6.76e-56\t215\ndmsC_2\tgroup_4091\t77.083\t336\t68\t8\t139\t468\t142\t474\t3.47e-47\t185\nyihP_3\tyihP_2\t71.429\t455\t119\t10\t750\t1199\t763\t1211\t3.61e-24\t110\nyihP_2\tyihP_3\t71.429\t455\t119\t10\t763\t1211\t750\t1199\t3.51e-24\t110\nSTY2756\t76-1292_group_5493__group_578\t87.879\t66\t8\t0\t208\t273\t3372\t3437\t1.08e-14\t78.7\naroG\taroF\t93.333\t75\t5\t0\t268\t342\t271\t345\t7.40e-25\t111\ngroup_806\tSTY4020\t75.232\t755\t156\t25\t16\t753\t16\t756\t1.65e-90\t329\nlppB\tlppA\t86.567\t201\t27\t0\t16\t216\t13\t213\t6.96e-59\t222\ngroup_4091\tdmsC_2\t77.083\t336\t68\t8\t142\t474\t139\t468\t3.51e-47\t185\nyfaY_1\tyfaY_2\t98.214\t168\t3\t0\t1023\t1190\t3\t170\t7.78e-80\t294\nacrD\tacrB\t73.137\t953\t235\t18\t2149\t3089\t2155\t3098\t9.39e-88\t322\n76-1292_araD_2__ulaE_1\taraD_1\t75.779\t706\t151\t19\t855\t1550\t1\t696\t4.61e-93\t339\n76-1292_group_5358__tsr_2\ttrg_2\t77.062\t388\t79\t9\t858\t1240\t847\t1229\t8.70e-56\t215\n76-1292_group_5358__tsr_2\taer\t79.851\t134\t25\t2\t1099\t1231\t1070\t1202\t3.29e-20\t97.1\nH12ESR00394-001A_group_5440__ygcY\tygcX\t74.473\t807\t186\t20\t1869\t2665\t517\t1313\t1.35e-90\t331\n76-1292_group_5493__group_578\tSTY2756\t87.879\t66\t8\t0\t3372\t3437\t208\t273\t3.18e-14\t78.7\n76-1292_narG__narH__narI__narJ_2\tH12ESR00394-001A_narY__narZ\t76.780\t5280\t1102\t103\t1\t5224\t1\t5212\t0.0\t2844\nH12ESR00394-001A_narY__narZ\t76-1292_narG__narH__narI__narJ_2\t76.785\t5281\t1100\t107\t1\t5212\t1\t5224\t0.0\t2844\n76-1292_rnfA__rnfB__rnfC_2\t76-1292_rnfA__rnfB__rnfC_2\t90.090\t222\t22\t0\t2901\t3122\t2808\t3029\t9.71e-78\t289\n76-1292_rnfA__rnfB__rnfC_2\t76-1292_rnfA__rnfB__rnfC_2\t90.090\t222\t22\t0\t2808\t3029\t2901\t3122\t9.71e-78\t289\n"
     ]
    }
   ],
   "source": [
    "import sys\n",
    "\n",
    "path = '/Users/cyeats/cy2@sanger.ac.uk/CGPS/Projects/WGSA/Salmonella_Typhi/Core_Families_II/fastas/cross_hits.tab'\n",
    "\n",
    "for line in open(path, 'r').readlines():\n",
    "    (id1, id2, pid) = line.replace('\\n', '').split()[0:3]\n",
    "    if id1 != id2 or float(pid) != 100.0:\n",
    "        print(line, end='')\n"
   ]
  },
  {
   "cell_type": "code",
   "execution_count": 8,
   "metadata": {},
   "outputs": [],
   "source": []
  },
  {
   "cell_type": "code",
   "execution_count": null,
   "metadata": {},
   "outputs": [],
   "source": []
  }
 ],
 "metadata": {
  "kernelspec": {
   "display_name": "Python 2",
   "language": "python",
   "name": "python2"
  },
  "language_info": {
   "codemirror_mode": {
    "name": "ipython",
    "version": 2
   },
   "file_extension": ".py",
   "mimetype": "text/x-python",
   "name": "python",
   "nbconvert_exporter": "python",
   "pygments_lexer": "ipython2",
   "version": "2.7.6"
  }
 },
 "nbformat": 4,
 "nbformat_minor": 0
}
