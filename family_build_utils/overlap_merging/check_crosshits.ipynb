{
 "cells": [
  {
   "cell_type": "code",
   "execution_count": 2,
   "metadata": {
    "collapsed": true
   },
   "outputs": [
    {
     "name": "stdout",
     "output_type": "stream",
     "text": [
      "CLS00380\tCLS02211\t81.106\t217\t41\t0\t421\t637\t424\t640\t2.51e-44\t174\nCLS02189\tCLS01043__CLS01957\t100.000\t31\t0\t0\t455\t485\t485\t515\t2.29e-09\t58.4\nCLS01186\tCLS01186\t94.675\t169\t9\t0\t788\t956\t560\t728\t9.59e-71\t263\nCLS01186\tCLS01186\t94.675\t169\t9\t0\t560\t728\t788\t956\t9.59e-71\t263\nCLS02211\tCLS00380\t81.106\t217\t41\t0\t424\t640\t421\t637\t2.51e-44\t174\nCLS01043__CLS01957\tCLS02189\t100.000\t31\t0\t0\t485\t515\t455\t485\t5.83e-09\t58.4\n"
     ]
    }
   ],
   "source": [
    "import sys\n",
    "\n",
    "path = '/Users/cyeats/cy2@sanger.ac.uk/CGPS/Projects/WGSA/Streptococcus_pneumoniae/Core_Families_II/run_2/cross_hits.tab'\n",
    "\n",
    "for line in open(path, 'r').readlines():\n",
    "    (id1, id2, pid) = line.replace('\\n', '').split()[0:3]\n",
    "    if id1 != id2 or float(pid) != 100.0:\n",
    "        print(line, end='')\n"
   ]
  },
  {
   "cell_type": "code",
   "execution_count": 8,
   "metadata": {},
   "outputs": [],
   "source": []
  },
  {
   "cell_type": "code",
   "execution_count": null,
   "metadata": {},
   "outputs": [],
   "source": []
  }
 ],
 "metadata": {
  "kernelspec": {
   "display_name": "Python 2",
   "language": "python",
   "name": "python2"
  },
  "language_info": {
   "codemirror_mode": {
    "name": "ipython",
    "version": 2
   },
   "file_extension": ".py",
   "mimetype": "text/x-python",
   "name": "python",
   "nbconvert_exporter": "python",
   "pygments_lexer": "ipython2",
   "version": "2.7.6"
  }
 },
 "nbformat": 4,
 "nbformat_minor": 0
}
